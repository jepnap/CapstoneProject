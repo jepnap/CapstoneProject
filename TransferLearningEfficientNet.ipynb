{
  "nbformat": 4,
  "nbformat_minor": 0,
  "metadata": {
    "colab": {
      "provenance": [],
      "machine_shape": "hm"
    },
    "kernelspec": {
      "name": "python3",
      "display_name": "Python 3"
    },
    "language_info": {
      "name": "python"
    },
    "accelerator": "GPU",
    "gpuClass": "premium"
  },
  "cells": [
    {
      "cell_type": "code",
      "execution_count": 1,
      "metadata": {
        "id": "keuoTtj8k6PB"
      },
      "outputs": [],
      "source": [
        "import tensorflow as tf\n",
        "from tensorflow.keras import datasets, layers, models\n",
        "import numpy as np\n",
        "import pandas as pd\n",
        "import tensorflow as tf\n",
        "from tensorflow import keras\n",
        "from tensorflow.keras import layers as L\n",
        "from tensorflow.keras.models import Sequential\n",
        "from tensorflow.keras.preprocessing.image import ImageDataGenerator\n",
        "import matplotlib.pyplot as plt\n",
        "%matplotlib inline\n",
        "import seaborn as sns\n",
        "from keras.utils import np_utils"
      ]
    },
    {
      "cell_type": "code",
      "source": [
        "from google.colab import drive \n",
        "drive.mount('/content/drive/') "
      ],
      "metadata": {
        "colab": {
          "base_uri": "https://localhost:8080/"
        },
        "id": "SaAgyxqIlbsN",
        "outputId": "8bf6b4d4-132b-4a82-dddc-630c76560834"
      },
      "execution_count": 2,
      "outputs": [
        {
          "output_type": "stream",
          "name": "stdout",
          "text": [
            "Mounted at /content/drive/\n"
          ]
        }
      ]
    },
    {
      "cell_type": "code",
      "source": [
        "import numpy as np\n",
        "my_imgs = np.load('/content/drive/MyDrive/Milestone 3/new-images2.npy',  allow_pickle = True)\n",
        "letters = np.load('/content/drive/MyDrive/Milestone 3/new-labels2.npy',  allow_pickle = True)"
      ],
      "metadata": {
        "id": "iWzskmN6ld8T"
      },
      "execution_count": 3,
      "outputs": []
    },
    {
      "cell_type": "code",
      "source": [
        "labels = [ord(i)-97 for i in letters] #pre-processing\n",
        "my_labels = np.array(labels)\n",
        "print(len(my_labels))"
      ],
      "metadata": {
        "colab": {
          "base_uri": "https://localhost:8080/"
        },
        "id": "FsT0WDxclgCS",
        "outputId": "262bb08b-c027-4542-98e0-430b68292da4"
      },
      "execution_count": 4,
      "outputs": [
        {
          "output_type": "stream",
          "name": "stdout",
          "text": [
            "3639\n"
          ]
        }
      ]
    },
    {
      "cell_type": "code",
      "source": [
        "def expand_greyscale_image_channels(grey_image):\n",
        "    grey_image_arr = np.array(grey_image)\n",
        "    grey_image_arr = np.expand_dims(grey_image_arr, -1)\n",
        "    grey_image_arr_3_channel = grey_image_arr.repeat(3, axis=-1)\n",
        "    return grey_image_arr_3_channel"
      ],
      "metadata": {
        "id": "i9HSs2HelizB"
      },
      "execution_count": 5,
      "outputs": []
    },
    {
      "cell_type": "code",
      "source": [
        "import cv2\n",
        "import numpy as np\n",
        "jill = np.empty((3639, 224, 224, 3))\n",
        "for i in range(3639):\n",
        "  jill[i] = expand_greyscale_image_channels(cv2.resize(my_imgs[i], dsize=(224, 224), interpolation=cv2.INTER_LINEAR))"
      ],
      "metadata": {
        "id": "p5zlScV4lom7"
      },
      "execution_count": 6,
      "outputs": []
    },
    {
      "cell_type": "code",
      "source": [
        "!pip install -U efficientnet\n"
      ],
      "metadata": {
        "colab": {
          "base_uri": "https://localhost:8080/"
        },
        "id": "3Mt8MI6_ly3t",
        "outputId": "bb081f1a-d07f-4e80-bf94-9a74a0ea388f"
      },
      "execution_count": 7,
      "outputs": [
        {
          "output_type": "stream",
          "name": "stdout",
          "text": [
            "Looking in indexes: https://pypi.org/simple, https://us-python.pkg.dev/colab-wheels/public/simple/\n",
            "Collecting efficientnet\n",
            "  Downloading efficientnet-1.1.1-py3-none-any.whl (18 kB)\n",
            "Requirement already satisfied: scikit-image in /usr/local/lib/python3.9/dist-packages (from efficientnet) (0.19.3)\n",
            "Collecting keras-applications<=1.0.8,>=1.0.7\n",
            "  Downloading Keras_Applications-1.0.8-py3-none-any.whl (50 kB)\n",
            "\u001b[2K     \u001b[90m━━━━━━━━━━━━━━━━━━━━━━━━━━━━━━━━━━━━━━━━\u001b[0m \u001b[32m50.7/50.7 KB\u001b[0m \u001b[31m5.3 MB/s\u001b[0m eta \u001b[36m0:00:00\u001b[0m\n",
            "\u001b[?25hRequirement already satisfied: h5py in /usr/local/lib/python3.9/dist-packages (from keras-applications<=1.0.8,>=1.0.7->efficientnet) (3.8.0)\n",
            "Requirement already satisfied: numpy>=1.9.1 in /usr/local/lib/python3.9/dist-packages (from keras-applications<=1.0.8,>=1.0.7->efficientnet) (1.22.4)\n",
            "Requirement already satisfied: scipy>=1.4.1 in /usr/local/lib/python3.9/dist-packages (from scikit-image->efficientnet) (1.10.1)\n",
            "Requirement already satisfied: networkx>=2.2 in /usr/local/lib/python3.9/dist-packages (from scikit-image->efficientnet) (3.0)\n",
            "Requirement already satisfied: tifffile>=2019.7.26 in /usr/local/lib/python3.9/dist-packages (from scikit-image->efficientnet) (2023.3.21)\n",
            "Requirement already satisfied: packaging>=20.0 in /usr/local/lib/python3.9/dist-packages (from scikit-image->efficientnet) (23.0)\n",
            "Requirement already satisfied: pillow!=7.1.0,!=7.1.1,!=8.3.0,>=6.1.0 in /usr/local/lib/python3.9/dist-packages (from scikit-image->efficientnet) (8.4.0)\n",
            "Requirement already satisfied: imageio>=2.4.1 in /usr/local/lib/python3.9/dist-packages (from scikit-image->efficientnet) (2.25.1)\n",
            "Requirement already satisfied: PyWavelets>=1.1.1 in /usr/local/lib/python3.9/dist-packages (from scikit-image->efficientnet) (1.4.1)\n",
            "Installing collected packages: keras-applications, efficientnet\n",
            "Successfully installed efficientnet-1.1.1 keras-applications-1.0.8\n"
          ]
        }
      ]
    },
    {
      "cell_type": "code",
      "source": [
        "import efficientnet.keras as efn"
      ],
      "metadata": {
        "id": "8s8crmI37tP5"
      },
      "execution_count": 9,
      "outputs": []
    },
    {
      "cell_type": "code",
      "source": [
        "base_model = efn.EfficientNetB0(input_shape = (224, 224, 3), include_top = False, weights = 'imagenet')"
      ],
      "metadata": {
        "colab": {
          "base_uri": "https://localhost:8080/"
        },
        "id": "MZ--nHQw5oKH",
        "outputId": "e05d06e3-5782-46ad-af5b-de84d171889d"
      },
      "execution_count": 10,
      "outputs": [
        {
          "output_type": "stream",
          "name": "stdout",
          "text": [
            "Downloading data from https://github.com/Callidior/keras-applications/releases/download/efficientnet/efficientnet-b0_weights_tf_dim_ordering_tf_kernels_autoaugment_notop.h5\n",
            "16804768/16804768 [==============================] - 1s 0us/step\n"
          ]
        }
      ]
    },
    {
      "cell_type": "code",
      "source": [
        "for layer in base_model.layers:\n",
        "    layer.trainable = False"
      ],
      "metadata": {
        "id": "YBgmEeCA5u0q"
      },
      "execution_count": 11,
      "outputs": []
    },
    {
      "cell_type": "code",
      "source": [
        "from tensorflow.keras.models import Sequential\n",
        "from tensorflow.keras import Model\n",
        "from tensorflow.keras.layers import Dense, Flatten, GlobalAveragePooling2D, Dropout\n",
        "x = base_model.output\n",
        "x = Flatten()(x)\n",
        "x = Dense(1024, activation=\"relu\")(x)\n",
        "x = Dropout(0.5)(x)\n",
        "\n",
        "# Add a final sigmoid layer with 1 node for classification output\n",
        "predictions = Dense(26, activation=\"sigmoid\")(x)\n",
        "model_final = Model(base_model.input, predictions)"
      ],
      "metadata": {
        "id": "eG1-aPq174fa"
      },
      "execution_count": 18,
      "outputs": []
    },
    {
      "cell_type": "code",
      "source": [
        "lr_schedule = keras.optimizers.schedules.ExponentialDecay(\n",
        "    initial_learning_rate=.000001,\n",
        "    decay_steps=1000,\n",
        "    decay_rate=1e-6)\n",
        "\n",
        "\n",
        "\n",
        "\n",
        "model_final.compile(tf.keras.optimizers.RMSprop(lr=lr_schedule),loss=\"sparse_categorical_crossentropy\",metrics=['accuracy'])\n"
      ],
      "metadata": {
        "colab": {
          "base_uri": "https://localhost:8080/"
        },
        "id": "AoML-qgf56aG",
        "outputId": "0f99f5b1-a927-48ff-c223-b8f24011551e"
      },
      "execution_count": 37,
      "outputs": [
        {
          "output_type": "stream",
          "name": "stderr",
          "text": [
            "WARNING:absl:`lr` is deprecated, please use `learning_rate` instead, or use the legacy optimizer, e.g.,tf.keras.optimizers.legacy.RMSprop.\n"
          ]
        }
      ]
    },
    {
      "cell_type": "code",
      "source": [
        "from sklearn.model_selection import train_test_split\n",
        "X_train, X_test, y_train, y_test = train_test_split(jill, my_labels, test_size=0.2, random_state=1)\n",
        "\n",
        "X_train, X_val, y_train, y_val = train_test_split(X_train, y_train, test_size=0.25, random_state=1)"
      ],
      "metadata": {
        "id": "tyX5kYW16am5"
      },
      "execution_count": 38,
      "outputs": []
    },
    {
      "cell_type": "code",
      "source": [
        "history = model_final.fit(X_train, y_train, epochs=20, \n",
        "                    validation_data=(X_val, y_val))\n"
      ],
      "metadata": {
        "colab": {
          "base_uri": "https://localhost:8080/"
        },
        "id": "UM6WNCdC5073",
        "outputId": "e168da7b-6471-4a15-c4a9-c0307555c36d"
      },
      "execution_count": 40,
      "outputs": [
        {
          "output_type": "stream",
          "name": "stdout",
          "text": [
            "Epoch 1/20\n",
            "69/69 [==============================] - 2s 27ms/step - loss: 3.4894 - accuracy: 0.0504 - val_loss: 3.4392 - val_accuracy: 0.0288\n",
            "Epoch 2/20\n",
            "69/69 [==============================] - 2s 26ms/step - loss: 3.3837 - accuracy: 0.0527 - val_loss: 3.4835 - val_accuracy: 0.0288\n",
            "Epoch 3/20\n",
            "69/69 [==============================] - 2s 26ms/step - loss: 3.2634 - accuracy: 0.0486 - val_loss: 3.4805 - val_accuracy: 0.0288\n",
            "Epoch 4/20\n",
            "69/69 [==============================] - 2s 26ms/step - loss: 6.4608 - accuracy: 0.0486 - val_loss: 3.4816 - val_accuracy: 0.0288\n",
            "Epoch 5/20\n",
            "69/69 [==============================] - 2s 26ms/step - loss: 3.6025 - accuracy: 0.0508 - val_loss: 3.4848 - val_accuracy: 0.0288\n",
            "Epoch 6/20\n",
            "69/69 [==============================] - 2s 26ms/step - loss: 3.3442 - accuracy: 0.0499 - val_loss: 3.4816 - val_accuracy: 0.0288\n",
            "Epoch 7/20\n",
            "69/69 [==============================] - 2s 26ms/step - loss: 3.3098 - accuracy: 0.0508 - val_loss: 4.2123 - val_accuracy: 0.0288\n",
            "Epoch 8/20\n",
            "69/69 [==============================] - 2s 27ms/step - loss: 4.5206 - accuracy: 0.0513 - val_loss: 3.4809 - val_accuracy: 0.0288\n",
            "Epoch 9/20\n",
            "69/69 [==============================] - 2s 26ms/step - loss: 3.2888 - accuracy: 0.0490 - val_loss: 3.4811 - val_accuracy: 0.0288\n",
            "Epoch 10/20\n",
            "69/69 [==============================] - 2s 26ms/step - loss: 3.2456 - accuracy: 0.0499 - val_loss: 3.4804 - val_accuracy: 0.0288\n",
            "Epoch 11/20\n",
            "69/69 [==============================] - 2s 26ms/step - loss: 3.3399 - accuracy: 0.0490 - val_loss: 3.4796 - val_accuracy: 0.0288\n",
            "Epoch 12/20\n",
            "69/69 [==============================] - 2s 26ms/step - loss: 3.5957 - accuracy: 0.0504 - val_loss: 3.4795 - val_accuracy: 0.0288\n",
            "Epoch 13/20\n",
            "69/69 [==============================] - 2s 26ms/step - loss: 3.2882 - accuracy: 0.0518 - val_loss: 3.4801 - val_accuracy: 0.0288\n",
            "Epoch 14/20\n",
            "69/69 [==============================] - 2s 26ms/step - loss: 3.3663 - accuracy: 0.0499 - val_loss: 3.4801 - val_accuracy: 0.0288\n",
            "Epoch 15/20\n",
            "69/69 [==============================] - 2s 26ms/step - loss: 3.2504 - accuracy: 0.0513 - val_loss: 3.4802 - val_accuracy: 0.0288\n",
            "Epoch 16/20\n",
            "69/69 [==============================] - 2s 26ms/step - loss: 3.9600 - accuracy: 0.0504 - val_loss: 3.5901 - val_accuracy: 0.0330\n",
            "Epoch 17/20\n",
            "69/69 [==============================] - 2s 26ms/step - loss: 3.2826 - accuracy: 0.0490 - val_loss: 3.5981 - val_accuracy: 0.0330\n",
            "Epoch 18/20\n",
            "69/69 [==============================] - 2s 26ms/step - loss: 3.4628 - accuracy: 0.0481 - val_loss: 3.4909 - val_accuracy: 0.0288\n",
            "Epoch 19/20\n",
            "69/69 [==============================] - 2s 26ms/step - loss: 3.2900 - accuracy: 0.0499 - val_loss: 3.4851 - val_accuracy: 0.0288\n",
            "Epoch 20/20\n",
            "69/69 [==============================] - 2s 27ms/step - loss: 3.9062 - accuracy: 0.0504 - val_loss: 3.4803 - val_accuracy: 0.0288\n"
          ]
        }
      ]
    },
    {
      "cell_type": "code",
      "source": [
        "import matplotlib.pyplot as plt\n",
        "\n",
        "acc = history.history['accuracy']; val_acc = history.history['val_accuracy']\n",
        "plt.plot(acc, label=\"Train acc - final value: %.3f\"%acc[-1])\n",
        "plt.plot(val_acc, label=\"Test acc - final value: %.3f\"%val_acc[-1])\n",
        "plt.legend(); plt.xlabel(\"Epochs\"); plt.ylabel(\"Acc\"); plt.show()"
      ],
      "metadata": {
        "colab": {
          "base_uri": "https://localhost:8080/",
          "height": 279
        },
        "id": "RW4q790M_CuT",
        "outputId": "04383127-de54-45ce-b36a-d1188d5896b6"
      },
      "execution_count": 43,
      "outputs": [
        {
          "output_type": "display_data",
          "data": {
            "text/plain": [
              "<Figure size 432x288 with 1 Axes>"
            ],
            "image/png": "[encoded data removed]"
          },
          "metadata": {
            "needs_background": "light"
          }
        }
      ]
    },
    {
      "cell_type": "code",
      "source": [
        "model_final.evaluate(X_test, y_test, verbose = 2)"
      ],
      "metadata": {
        "colab": {
          "base_uri": "https://localhost:8080/"
        },
        "id": "DbAeTZAA_GEj",
        "outputId": "eed90bac-38f6-4f73-fdc7-b62ce4317c6f"
      },
      "execution_count": 45,
      "outputs": [
        {
          "output_type": "stream",
          "name": "stdout",
          "text": [
            "23/23 - 0s - loss: 3.2766 - accuracy: 0.0247 - 476ms/epoch - 21ms/step\n"
          ]
        },
        {
          "output_type": "execute_result",
          "data": {
            "text/plain": [
              "[3.2765707969665527, 0.024725275114178658]"
            ]
          },
          "metadata": {},
          "execution_count": 45
        }
      ]
    }
  ]
}
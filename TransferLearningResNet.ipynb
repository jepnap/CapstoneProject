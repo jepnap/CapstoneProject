{
  "nbformat": 4,
  "nbformat_minor": 0,
  "metadata": {
    "colab": {
      "provenance": [],
      "machine_shape": "hm"
    },
    "kernelspec": {
      "name": "python3",
      "display_name": "Python 3"
    },
    "language_info": {
      "name": "python"
    },
    "accelerator": "GPU",
    "gpuClass": "premium"
  },
  "cells": [
    {
      "cell_type": "code",
      "execution_count": 1,
      "metadata": {
        "id": "keuoTtj8k6PB"
      },
      "outputs": [],
      "source": [
        "import tensorflow as tf\n",
        "from tensorflow.keras import datasets, layers, models\n",
        "import numpy as np\n",
        "import pandas as pd\n",
        "import tensorflow as tf\n",
        "from tensorflow import keras\n",
        "from tensorflow.keras import layers as L\n",
        "from tensorflow.keras.models import Sequential\n",
        "from tensorflow.keras.preprocessing.image import ImageDataGenerator\n",
        "import matplotlib.pyplot as plt\n",
        "%matplotlib inline\n",
        "import seaborn as sns\n",
        "from keras.utils import np_utils"
      ]
    },
    {
      "cell_type": "code",
      "source": [
        "from google.colab import drive \n",
        "drive.mount('/content/drive/') "
      ],
      "metadata": {
        "colab": {
          "base_uri": "https://localhost:8080/"
        },
        "id": "SaAgyxqIlbsN",
        "outputId": "bb7a28ba-680c-4bd4-841b-58327d128ee1"
      },
      "execution_count": 1,
      "outputs": [
        {
          "output_type": "stream",
          "name": "stdout",
          "text": [
            "Mounted at /content/drive/\n"
          ]
        }
      ]
    },
    {
      "cell_type": "code",
      "source": [
        "import numpy as np\n",
        "my_imgs = np.load('/content/drive/MyDrive/Milestone 3/new-images2.npy',  allow_pickle = True)\n",
        "letters = np.load('/content/drive/MyDrive/Milestone 3/new-labels2.npy',  allow_pickle = True)"
      ],
      "metadata": {
        "id": "iWzskmN6ld8T"
      },
      "execution_count": 2,
      "outputs": []
    },
    {
      "cell_type": "code",
      "source": [
        "labels = [ord(i)-97 for i in letters] #pre-processing\n",
        "my_labels = np.array(labels)\n",
        "print(len(my_labels))"
      ],
      "metadata": {
        "colab": {
          "base_uri": "https://localhost:8080/"
        },
        "id": "FsT0WDxclgCS",
        "outputId": "7caa0e1e-65e1-4101-e38d-792400d2fb2b"
      },
      "execution_count": 3,
      "outputs": [
        {
          "output_type": "stream",
          "name": "stdout",
          "text": [
            "3639\n"
          ]
        }
      ]
    },
    {
      "cell_type": "code",
      "source": [
        "def expand_greyscale_image_channels(grey_image):\n",
        "    grey_image_arr = np.array(grey_image)\n",
        "    grey_image_arr = np.expand_dims(grey_image_arr, -1)\n",
        "    grey_image_arr_3_channel = grey_image_arr.repeat(3, axis=-1)\n",
        "    return grey_image_arr_3_channel"
      ],
      "metadata": {
        "id": "i9HSs2HelizB"
      },
      "execution_count": 4,
      "outputs": []
    },
    {
      "cell_type": "code",
      "source": [
        "import cv2\n",
        "import numpy as np\n",
        "jill = np.empty((3639, 224, 224, 3))\n",
        "for i in range(3639):\n",
        "  jill[i] = expand_greyscale_image_channels(cv2.resize(my_imgs[i], dsize=(224, 224), interpolation=cv2.INTER_LINEAR))"
      ],
      "metadata": {
        "id": "p5zlScV4lom7"
      },
      "execution_count": 5,
      "outputs": []
    },
    {
      "cell_type": "code",
      "source": [
        "from tensorflow.keras.applications import ResNet50\n",
        "import tensorflow as tf\n",
        "\n",
        "base_model = ResNet50(input_shape=(224, 224,3), include_top=False, weights=\"imagenet\")"
      ],
      "metadata": {
        "colab": {
          "base_uri": "https://localhost:8080/"
        },
        "id": "3Mt8MI6_ly3t",
        "outputId": "98962a3e-a8ad-493c-b670-12efce7bcc8c"
      },
      "execution_count": 6,
      "outputs": [
        {
          "output_type": "stream",
          "name": "stdout",
          "text": [
            "Downloading data from https://storage.googleapis.com/tensorflow/keras-applications/resnet/resnet50_weights_tf_dim_ordering_tf_kernels_notop.h5\n",
            "94765736/94765736 [==============================] - 5s 0us/step\n"
          ]
        }
      ]
    },
    {
      "cell_type": "code",
      "source": [
        "for layer in base_model.layers:\n",
        "    layer.trainable = False"
      ],
      "metadata": {
        "id": "EhgoKSZMmC83"
      },
      "execution_count": 7,
      "outputs": []
    },
    {
      "cell_type": "code",
      "source": [
        "\n",
        "from tensorflow.keras.applications import ResNet50\n",
        "from tensorflow.keras.models import Sequential\n",
        "from tensorflow.keras.layers import Dense, Flatten, GlobalAveragePooling2D\n",
        "from tensorflow.keras.optimizers import SGD\n",
        "\n",
        "base_model = Sequential()\n",
        "base_model.add(ResNet50(include_top=False, weights='imagenet', pooling='max'))\n",
        "base_model.add(Dense(26, activation='sigmoid'))"
      ],
      "metadata": {
        "id": "3f0lZqMbmDtv"
      },
      "execution_count": 8,
      "outputs": []
    },
    {
      "cell_type": "code",
      "source": [
        "#base_model.compile(optimizer = tf.keras.optimizers.SGD(learning_rate=0.0001), loss = \"sparse_categorical_crossentropy\", metrics = ['acc'])\n",
        "base_model.compile(optimizer = tf.keras.optimizers.experimental.SGD(learning_rate=0.0001), loss = \"sparse_categorical_crossentropy\", metrics = ['acc'])"
      ],
      "metadata": {
        "id": "P06XGgGAmMY3"
      },
      "execution_count": 9,
      "outputs": []
    },
    {
      "cell_type": "code",
      "source": [
        "from sklearn.model_selection import train_test_split\n",
        "X_train, X_test, y_train, y_test = train_test_split(jill, my_labels, test_size=0.2, random_state=1)\n",
        "\n",
        "X_train, X_val, y_train, y_val = train_test_split(X_train, y_train, test_size=0.25, random_state=1)"
      ],
      "metadata": {
        "id": "pz64D4t5wqsh"
      },
      "execution_count": 10,
      "outputs": []
    },
    {
      "cell_type": "code",
      "source": [
        "history = base_model.fit(X_train, y_train, epochs=20, \n",
        "                    validation_data=(X_val, y_val))"
      ],
      "metadata": {
        "colab": {
          "base_uri": "https://localhost:8080/"
        },
        "id": "Kfaz6_ODmSty",
        "outputId": "6eb969ce-73a1-44f0-9e0b-773955fc1f28"
      },
      "execution_count": 11,
      "outputs": [
        {
          "output_type": "stream",
          "name": "stdout",
          "text": [
            "Epoch 1/20\n",
            "69/69 [==============================] - 29s 102ms/step - loss: 9.7341 - acc: 0.0792 - val_loss: 10.9597 - val_acc: 0.0728\n",
            "Epoch 2/20\n",
            "69/69 [==============================] - 5s 69ms/step - loss: 5.8730 - acc: 0.2071 - val_loss: 10.2652 - val_acc: 0.0673\n",
            "Epoch 3/20\n",
            "69/69 [==============================] - 5s 68ms/step - loss: 3.8401 - acc: 0.3775 - val_loss: 7.6637 - val_acc: 0.1635\n",
            "Epoch 4/20\n",
            "69/69 [==============================] - 5s 69ms/step - loss: 2.5524 - acc: 0.5140 - val_loss: 5.9430 - val_acc: 0.2376\n",
            "Epoch 5/20\n",
            "69/69 [==============================] - 5s 69ms/step - loss: 1.6958 - acc: 0.6445 - val_loss: 4.7476 - val_acc: 0.3255\n",
            "Epoch 6/20\n",
            "69/69 [==============================] - 5s 68ms/step - loss: 1.1043 - acc: 0.7251 - val_loss: 4.5275 - val_acc: 0.3544\n",
            "Epoch 7/20\n",
            "69/69 [==============================] - 5s 68ms/step - loss: 0.7494 - acc: 0.7861 - val_loss: 3.2768 - val_acc: 0.4547\n",
            "Epoch 8/20\n",
            "69/69 [==============================] - 5s 69ms/step - loss: 0.5019 - acc: 0.8516 - val_loss: 3.0770 - val_acc: 0.4890\n",
            "Epoch 9/20\n",
            "69/69 [==============================] - 5s 68ms/step - loss: 0.3524 - acc: 0.9038 - val_loss: 3.1206 - val_acc: 0.4821\n",
            "Epoch 10/20\n",
            "69/69 [==============================] - 5s 69ms/step - loss: 0.2375 - acc: 0.9240 - val_loss: 3.3542 - val_acc: 0.4615\n",
            "Epoch 11/20\n",
            "69/69 [==============================] - 5s 68ms/step - loss: 0.2086 - acc: 0.9340 - val_loss: 3.1582 - val_acc: 0.4863\n",
            "Epoch 12/20\n",
            "69/69 [==============================] - 5s 68ms/step - loss: 0.1589 - acc: 0.9533 - val_loss: 3.1134 - val_acc: 0.4835\n",
            "Epoch 13/20\n",
            "69/69 [==============================] - 5s 68ms/step - loss: 0.1515 - acc: 0.9542 - val_loss: 2.9755 - val_acc: 0.5179\n",
            "Epoch 14/20\n",
            "69/69 [==============================] - 5s 68ms/step - loss: 0.0781 - acc: 0.9798 - val_loss: 3.0363 - val_acc: 0.5151\n",
            "Epoch 15/20\n",
            "69/69 [==============================] - 5s 68ms/step - loss: 0.0802 - acc: 0.9785 - val_loss: 3.0602 - val_acc: 0.4945\n",
            "Epoch 16/20\n",
            "69/69 [==============================] - 5s 68ms/step - loss: 0.0929 - acc: 0.9794 - val_loss: 2.9071 - val_acc: 0.5096\n",
            "Epoch 17/20\n",
            "69/69 [==============================] - 5s 68ms/step - loss: 0.0682 - acc: 0.9817 - val_loss: 3.0274 - val_acc: 0.5069\n",
            "Epoch 18/20\n",
            "69/69 [==============================] - 5s 68ms/step - loss: 0.0688 - acc: 0.9821 - val_loss: 3.2765 - val_acc: 0.4945\n",
            "Epoch 19/20\n",
            "69/69 [==============================] - 5s 68ms/step - loss: 0.0784 - acc: 0.9780 - val_loss: 2.8948 - val_acc: 0.5302\n",
            "Epoch 20/20\n",
            "69/69 [==============================] - 5s 68ms/step - loss: 0.0519 - acc: 0.9872 - val_loss: 2.9911 - val_acc: 0.5206\n"
          ]
        }
      ]
    },
    {
      "cell_type": "code",
      "source": [
        "import matplotlib.pyplot as plt\n",
        "\n",
        "acc = history.history['acc']; val_acc = history.history['val_acc']\n",
        "plt.plot(acc, label=\"Train acc - final value: %.3f\"%acc[-1])\n",
        "plt.plot(val_acc, label=\"Test acc - final value: %.3f\"%val_acc[-1])\n",
        "plt.legend(); plt.xlabel(\"Epochs\"); plt.ylabel(\"Acc\"); plt.show()"
      ],
      "metadata": {
        "colab": {
          "base_uri": "https://localhost:8080/",
          "height": 279
        },
        "id": "09zG-ir6o78d",
        "outputId": "f1d8dd6d-6bb0-43d8-871f-cc2abcf216c6"
      },
      "execution_count": 12,
      "outputs": [
        {
          "output_type": "display_data",
          "data": {
            "text/plain": [
              "<Figure size 432x288 with 1 Axes>"
            ],
            "image/png": "[encoded data removed]"
          },
          "metadata": {
            "needs_background": "light"
          }
        }
      ]
    },
    {
      "cell_type": "code",
      "source": [
        "base_model.evaluate(X_test, y_test, verbose = 2)"
      ],
      "metadata": {
        "colab": {
          "base_uri": "https://localhost:8080/"
        },
        "id": "KQReGj1Vo_TN",
        "outputId": "712d2c2d-7b21-4799-eab8-3752850864d3"
      },
      "execution_count": 13,
      "outputs": [
        {
          "output_type": "stream",
          "name": "stdout",
          "text": [
            "23/23 - 0s - loss: 2.9748 - acc: 0.4876 - 500ms/epoch - 22ms/step\n"
          ]
        },
        {
          "output_type": "execute_result",
          "data": {
            "text/plain": [
              "[2.974757671356201, 0.48763737082481384]"
            ]
          },
          "metadata": {},
          "execution_count": 13
        }
      ]
    }
  ]
}
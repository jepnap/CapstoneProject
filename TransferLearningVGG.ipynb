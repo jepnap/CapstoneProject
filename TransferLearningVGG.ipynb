{
  "nbformat": 4,
  "nbformat_minor": 0,
  "metadata": {
    "colab": {
      "provenance": [],
      "machine_shape": "hm"
    },
    "kernelspec": {
      "name": "python3",
      "display_name": "Python 3"
    },
    "language_info": {
      "name": "python"
    },
    "gpuClass": "standard",
    "accelerator": "GPU"
  },
  "cells": [
    {
      "cell_type": "code",
      "source": [
        "import tensorflow as tf\n",
        "from tensorflow.keras import datasets, layers, models\n",
        "import numpy as np\n",
        "import pandas as pd\n",
        "import tensorflow as tf\n",
        "from tensorflow import keras\n",
        "from tensorflow.keras import layers as L\n",
        "from tensorflow.keras.models import Sequential\n",
        "from tensorflow.keras.preprocessing.image import ImageDataGenerator\n",
        "import matplotlib.pyplot as plt\n",
        "%matplotlib inline\n",
        "import seaborn as sns\n",
        "from keras.utils import np_utils"
      ],
      "metadata": {
        "id": "P8XsdG6i3Y33"
      },
      "execution_count": 1,
      "outputs": []
    },
    {
      "cell_type": "code",
      "execution_count": 2,
      "metadata": {
        "id": "POsMcIiPmPcY",
        "colab": {
          "base_uri": "https://localhost:8080/"
        },
        "outputId": "b212b4a8-aa10-483d-ff2e-9eeaf358626d"
      },
      "outputs": [
        {
          "output_type": "stream",
          "name": "stdout",
          "text": [
            "Drive already mounted at /content/drive/; to attempt to forcibly remount, call drive.mount(\"/content/drive/\", force_remount=True).\n"
          ]
        }
      ],
      "source": [
        "from google.colab import drive \n",
        "drive.mount('/content/drive/') "
      ]
    },
    {
      "cell_type": "code",
      "source": [
        "import numpy as np\n",
        "my_imgs = np.load('/content/drive/MyDrive/Milestone 3/new-images2.npy',  allow_pickle = True)\n",
        "letters = np.load('/content/drive/MyDrive/Milestone 3/new-labels2.npy',  allow_pickle = True)"
      ],
      "metadata": {
        "id": "JbCmd_UqmqAP"
      },
      "execution_count": 3,
      "outputs": []
    },
    {
      "cell_type": "code",
      "source": [
        "labels = [ord(i)-97 for i in letters] #pre-processing\n",
        "my_labels = np.array(labels)\n",
        "print(len(my_labels))"
      ],
      "metadata": {
        "id": "On5ZergKmsMQ",
        "colab": {
          "base_uri": "https://localhost:8080/"
        },
        "outputId": "56a450c1-a15a-4b0e-e9c4-091cc4406ffe"
      },
      "execution_count": 4,
      "outputs": [
        {
          "output_type": "stream",
          "name": "stdout",
          "text": [
            "3639\n"
          ]
        }
      ]
    },
    {
      "cell_type": "code",
      "source": [
        "def expand_greyscale_image_channels(grey_image):\n",
        "    grey_image_arr = np.array(grey_image)\n",
        "    grey_image_arr = np.expand_dims(grey_image_arr, -1)\n",
        "    grey_image_arr_3_channel = grey_image_arr.repeat(3, axis=-1)\n",
        "    return grey_image_arr_3_channel"
      ],
      "metadata": {
        "id": "luY5Xcyw6_9W"
      },
      "execution_count": 5,
      "outputs": []
    },
    {
      "cell_type": "code",
      "source": [
        "import cv2\n",
        "import numpy as np\n",
        "jill = np.empty((3639, 224, 224, 3))\n",
        "for i in range(3639):\n",
        "  jill[i] = expand_greyscale_image_channels(cv2.resize(my_imgs[i], dsize=(224, 224), interpolation=cv2.INTER_LINEAR))"
      ],
      "metadata": {
        "id": "ihSiXS8pKYJr"
      },
      "execution_count": 6,
      "outputs": []
    },
    {
      "cell_type": "code",
      "source": [
        "jill.shape"
      ],
      "metadata": {
        "colab": {
          "base_uri": "https://localhost:8080/"
        },
        "id": "7B5fvormKpyR",
        "outputId": "f7b8ede5-ad83-4015-d9d5-09f00e663da9"
      },
      "execution_count": 7,
      "outputs": [
        {
          "output_type": "execute_result",
          "data": {
            "text/plain": [
              "(3639, 224, 224, 3)"
            ]
          },
          "metadata": {},
          "execution_count": 7
        }
      ]
    },
    {
      "cell_type": "code",
      "source": [
        "from tensorflow.keras.applications.vgg16 import VGG16\n",
        "\n",
        "base_model = VGG16(input_shape = (224, 224, 3), # Shape of our images\n",
        "include_top = False, # Leave out the last fully connected layer\n",
        "weights = 'imagenet')"
      ],
      "metadata": {
        "id": "hsVN0Ut1MnIK"
      },
      "execution_count": 8,
      "outputs": []
    },
    {
      "cell_type": "code",
      "source": [
        "for layer in base_model.layers:\n",
        "    layer.trainable = False"
      ],
      "metadata": {
        "id": "DhxfKBWEMroL"
      },
      "execution_count": 9,
      "outputs": []
    },
    {
      "cell_type": "code",
      "source": [
        "# Flatten the output layer to 1 dimension\n",
        "x = layers.Flatten()(base_model.output)\n",
        "\n",
        "# Add a fully connected layer with 512 hidden units and ReLU activation\n",
        "x = layers.Dense(512, activation='relu')(x)\n",
        "\n",
        "# Add a dropout rate of 0.5\n",
        "x = layers.Dropout(0.5)(x)\n",
        "\n",
        "# Add a final sigmoid layer with 1 node for classification output\n",
        "x = layers.Dense(26, activation='sigmoid')(x)\n",
        "\n",
        "model = tf.keras.models.Model(base_model.input, x)\n",
        "\n",
        "model.compile(optimizer = tf.keras.optimizers.RMSprop(learning_rate=0.0001), loss = \"sparse_categorical_crossentropy\",metrics = ['acc'])"
      ],
      "metadata": {
        "id": "I4zUn1v6My0T"
      },
      "execution_count": 10,
      "outputs": []
    },
    {
      "cell_type": "code",
      "source": [
        "from sklearn.model_selection import train_test_split\n",
        "X_train, X_test, y_train, y_test = train_test_split(jill, my_labels, test_size=0.2, random_state=1)\n",
        "\n",
        "X_train, X_val, y_train, y_val = train_test_split(X_train, y_train, test_size=0.25, random_state=1) # 0.25 x 0.8 = 0.2"
      ],
      "metadata": {
        "id": "u4QXEdYBNzQS"
      },
      "execution_count": 11,
      "outputs": []
    },
    {
      "cell_type": "code",
      "source": [
        "\n",
        "history = model.fit(X_train, y_train, epochs=20, \n",
        "                    validation_data=(X_val, y_val))"
      ],
      "metadata": {
        "colab": {
          "base_uri": "https://localhost:8080/"
        },
        "id": "k-h6MMq5S2K5",
        "outputId": "c82fc54e-344a-49ac-f67b-a2512154c00f"
      },
      "execution_count": 12,
      "outputs": [
        {
          "output_type": "stream",
          "name": "stdout",
          "text": [
            "Epoch 1/20\n",
            "69/69 [==============================] - 20s 222ms/step - loss: 6.2201 - acc: 0.3614 - val_loss: 2.0021 - val_acc: 0.6140\n",
            "Epoch 2/20\n",
            "69/69 [==============================] - 11s 162ms/step - loss: 1.7369 - acc: 0.6065 - val_loss: 1.8426 - val_acc: 0.6401\n",
            "Epoch 3/20\n",
            "69/69 [==============================] - 11s 163ms/step - loss: 0.9853 - acc: 0.7595 - val_loss: 1.9146 - val_acc: 0.6607\n",
            "Epoch 4/20\n",
            "69/69 [==============================] - 11s 162ms/step - loss: 0.7570 - acc: 0.8149 - val_loss: 1.9253 - val_acc: 0.6758\n",
            "Epoch 5/20\n",
            "69/69 [==============================] - 11s 161ms/step - loss: 0.5729 - acc: 0.8562 - val_loss: 1.9378 - val_acc: 0.6923\n",
            "Epoch 6/20\n",
            "69/69 [==============================] - 11s 160ms/step - loss: 0.4778 - acc: 0.8740 - val_loss: 2.0606 - val_acc: 0.6896\n",
            "Epoch 7/20\n",
            "69/69 [==============================] - 11s 160ms/step - loss: 0.3504 - acc: 0.9116 - val_loss: 2.1308 - val_acc: 0.6951\n",
            "Epoch 8/20\n",
            "69/69 [==============================] - 11s 160ms/step - loss: 0.3340 - acc: 0.9148 - val_loss: 2.1605 - val_acc: 0.6937\n",
            "Epoch 9/20\n",
            "69/69 [==============================] - 11s 161ms/step - loss: 0.2905 - acc: 0.9253 - val_loss: 2.2340 - val_acc: 0.6992\n",
            "Epoch 10/20\n",
            "69/69 [==============================] - 11s 161ms/step - loss: 0.2357 - acc: 0.9377 - val_loss: 2.2711 - val_acc: 0.7033\n",
            "Epoch 11/20\n",
            "69/69 [==============================] - 11s 161ms/step - loss: 0.2177 - acc: 0.9450 - val_loss: 2.5012 - val_acc: 0.7033\n",
            "Epoch 12/20\n",
            "69/69 [==============================] - 11s 161ms/step - loss: 0.1987 - acc: 0.9505 - val_loss: 2.5605 - val_acc: 0.7033\n",
            "Epoch 13/20\n",
            "69/69 [==============================] - 11s 161ms/step - loss: 0.1763 - acc: 0.9560 - val_loss: 2.4576 - val_acc: 0.7321\n",
            "Epoch 14/20\n",
            "69/69 [==============================] - 11s 160ms/step - loss: 0.1726 - acc: 0.9528 - val_loss: 2.4998 - val_acc: 0.7129\n",
            "Epoch 15/20\n",
            "69/69 [==============================] - 11s 161ms/step - loss: 0.2046 - acc: 0.9537 - val_loss: 2.5806 - val_acc: 0.7170\n",
            "Epoch 16/20\n",
            "69/69 [==============================] - 11s 161ms/step - loss: 0.1443 - acc: 0.9597 - val_loss: 2.6929 - val_acc: 0.7253\n",
            "Epoch 17/20\n",
            "69/69 [==============================] - 11s 161ms/step - loss: 0.1435 - acc: 0.9611 - val_loss: 2.8942 - val_acc: 0.7060\n",
            "Epoch 18/20\n",
            "69/69 [==============================] - 11s 161ms/step - loss: 0.1556 - acc: 0.9615 - val_loss: 2.6678 - val_acc: 0.7129\n",
            "Epoch 19/20\n",
            "69/69 [==============================] - 11s 161ms/step - loss: 0.1339 - acc: 0.9684 - val_loss: 2.7567 - val_acc: 0.7225\n",
            "Epoch 20/20\n",
            "69/69 [==============================] - 11s 161ms/step - loss: 0.1037 - acc: 0.9716 - val_loss: 2.9134 - val_acc: 0.7225\n"
          ]
        }
      ]
    },
    {
      "cell_type": "code",
      "source": [
        "import matplotlib.pyplot as plt\n",
        "\n",
        "acc = history.history['acc']; val_acc = history.history['val_acc']\n",
        "plt.plot(acc, label=\"Train acc - final value: %.3f\"%acc[-1])\n",
        "plt.plot(val_acc, label=\"Test acc - final value: %.3f\"%val_acc[-1])\n",
        "plt.legend(); plt.xlabel(\"Epochs\"); plt.ylabel(\"Acc\"); plt.show()"
      ],
      "metadata": {
        "colab": {
          "base_uri": "https://localhost:8080/",
          "height": 283
        },
        "id": "PZd02YxLah1m",
        "outputId": "83e50f8c-f998-4e4a-9fee-3760ea5d3ddc"
      },
      "execution_count": 16,
      "outputs": [
        {
          "output_type": "display_data",
          "data": {
            "text/plain": [
              "<Figure size 432x288 with 1 Axes>"
            ],
            "image/png": "[encoded data removed]"
          },
          "metadata": {
            "needs_background": "light"
          }
        }
      ]
    },
    {
      "cell_type": "code",
      "source": [
        "model.evaluate(X_test, y_test, verbose = 2)"
      ],
      "metadata": {
        "colab": {
          "base_uri": "https://localhost:8080/"
        },
        "id": "eeHm-Ossamvb",
        "outputId": "2d5d2be1-ea36-4a99-b3cf-73f1e433be89"
      },
      "execution_count": 17,
      "outputs": [
        {
          "output_type": "stream",
          "name": "stdout",
          "text": [
            "23/23 - 3s - loss: 3.2144 - acc: 0.6786 - 3s/epoch - 122ms/step\n"
          ]
        },
        {
          "output_type": "execute_result",
          "data": {
            "text/plain": [
              "[3.21435809135437, 0.6785714030265808]"
            ]
          },
          "metadata": {},
          "execution_count": 17
        }
      ]
    }
  ]
}